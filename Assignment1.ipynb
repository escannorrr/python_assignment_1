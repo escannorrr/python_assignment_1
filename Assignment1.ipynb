{
 "cells": [
  {
   "cell_type": "markdown",
   "id": "e97f832e-5db4-4e29-915a-6f77d5d67c97",
   "metadata": {},
   "source": [
    "Q1. Create one variable containing following type of data:\n",
    "(i) string\n",
    "(ii) list\n",
    "(iii) float\n",
    "(iv) tuple"
   ]
  },
  {
   "cell_type": "code",
   "execution_count": 2,
   "id": "7912c586-c4ae-4095-a19c-f1af121184be",
   "metadata": {},
   "outputs": [],
   "source": [
    "# (i) string\n",
    "my_string = \"Hello, World!\""
   ]
  },
  {
   "cell_type": "code",
   "execution_count": 4,
   "id": "8c41237c-7010-4963-b6a3-1503cd123d06",
   "metadata": {},
   "outputs": [],
   "source": [
    "# (ii) list\n",
    "my_list = [1, 2, 3, 4, 5]"
   ]
  },
  {
   "cell_type": "code",
   "execution_count": 16,
   "id": "8d9a6f4e-ae72-4546-be8c-7a792356b561",
   "metadata": {},
   "outputs": [],
   "source": [
    "# (iii) float\n",
    "my_float = 3.14"
   ]
  },
  {
   "cell_type": "code",
   "execution_count": 6,
   "id": "f0175e11-74d4-4ff5-988d-30ed6b2c8880",
   "metadata": {},
   "outputs": [],
   "source": [
    "# (iv) tuple\n",
    "my_tuple = (6, 7, 8, 9, 10)"
   ]
  },
  {
   "cell_type": "markdown",
   "id": "b779e6ed-6907-44e8-98e2-8dd62b78b04f",
   "metadata": {},
   "source": [
    "Q2. Given are some following variables containing data:\n",
    "(i) var1 = ‘ ‘\n",
    "(ii) var2 = ‘[ DS , ML , Python]’\n",
    "(iii) var3 = [ ‘DS’ , ’ML’ , ‘Python’ ]\n",
    "(iv) var4 = 1.\n",
    "\n",
    "What will be the data type of the above given variable."
   ]
  },
  {
   "cell_type": "code",
   "execution_count": 9,
   "id": "4534746f-7aa8-47d1-afa7-c20280912269",
   "metadata": {},
   "outputs": [
    {
     "data": {
      "text/plain": [
       "str"
      ]
     },
     "execution_count": 9,
     "metadata": {},
     "output_type": "execute_result"
    }
   ],
   "source": [
    "var1 = \"\"\n",
    "type(var1)"
   ]
  },
  {
   "cell_type": "code",
   "execution_count": 11,
   "id": "d19df9cf-a22a-4c87-a544-4809ae597157",
   "metadata": {},
   "outputs": [
    {
     "data": {
      "text/plain": [
       "str"
      ]
     },
     "execution_count": 11,
     "metadata": {},
     "output_type": "execute_result"
    }
   ],
   "source": [
    "var2 = \"[ DS , ML , Python]\"\n",
    "type(var2)"
   ]
  },
  {
   "cell_type": "code",
   "execution_count": 13,
   "id": "b71a2d24-0a2f-46ba-aff1-d3269b1aa3b3",
   "metadata": {},
   "outputs": [
    {
     "data": {
      "text/plain": [
       "list"
      ]
     },
     "execution_count": 13,
     "metadata": {},
     "output_type": "execute_result"
    }
   ],
   "source": [
    "var3 = [ \"DS\" , \"ML\" , \"Python\" ]\n",
    "type(var3)"
   ]
  },
  {
   "cell_type": "code",
   "execution_count": 15,
   "id": "a7ce8864-947d-464f-baf0-9defa3fe7688",
   "metadata": {},
   "outputs": [
    {
     "data": {
      "text/plain": [
       "int"
      ]
     },
     "execution_count": 15,
     "metadata": {},
     "output_type": "execute_result"
    }
   ],
   "source": [
    "var4 = 1\n",
    "type(var4)"
   ]
  },
  {
   "cell_type": "markdown",
   "id": "fa53219a-090f-43b1-8477-ae0dd88b815c",
   "metadata": {},
   "source": [
    "Q3. Explain the use of the following operators using an example:\n",
    "(i) /\n",
    "(ii) %\n",
    "(iii) //\n",
    "(iv) **"
   ]
  },
  {
   "cell_type": "code",
   "execution_count": 17,
   "id": "312c9c99-3e56-4e0d-b373-346e631a462c",
   "metadata": {},
   "outputs": [
    {
     "name": "stdout",
     "output_type": "stream",
     "text": [
      "3.3333333333333335\n"
     ]
    }
   ],
   "source": [
    "#(i) / (Division Operator): The division operator is used to divide one number by another.\n",
    "a = 10\n",
    "b = 3\n",
    "result = a / b\n",
    "print(result)\n"
   ]
  },
  {
   "cell_type": "code",
   "execution_count": 18,
   "id": "bfa42ff0-70e0-467a-95c9-821adba72a02",
   "metadata": {},
   "outputs": [
    {
     "name": "stdout",
     "output_type": "stream",
     "text": [
      "1\n"
     ]
    }
   ],
   "source": [
    "#(ii) % (Modulus Operator): The modulus operator calculates the remainder when one number is divided by another.\n",
    "a = 10\n",
    "b = 3\n",
    "result = a % b\n",
    "print(result)\n"
   ]
  },
  {
   "cell_type": "code",
   "execution_count": 19,
   "id": "a991eeb1-7117-4426-bb72-d5a47eb65244",
   "metadata": {},
   "outputs": [
    {
     "name": "stdout",
     "output_type": "stream",
     "text": [
      "3\n"
     ]
    }
   ],
   "source": [
    "#(iii) // (Floor Division Operator): The floor division operator performs division and rounds the result down to the nearest whole number.\n",
    "a = 10\n",
    "b = 3\n",
    "result = a // b\n",
    "print(result)\n"
   ]
  },
  {
   "cell_type": "code",
   "execution_count": 20,
   "id": "ae6b19fe-d5c6-47fd-9d22-c55310be1deb",
   "metadata": {},
   "outputs": [
    {
     "name": "stdout",
     "output_type": "stream",
     "text": [
      "8\n"
     ]
    }
   ],
   "source": [
    "#(iv) ** (Exponentiation Operator): The exponentiation operator raises a number to the power of another number.\n",
    "a = 2\n",
    "b = 3\n",
    "result = a ** b\n",
    "print(result)\n"
   ]
  },
  {
   "cell_type": "markdown",
   "id": "029f5ee2-9473-40ac-acfb-ce51125ef211",
   "metadata": {},
   "source": [
    "Q4. Create a list of length 10 of your choice containing multiple types of data. Using for loop print the\n",
    "element and its data type."
   ]
  },
  {
   "cell_type": "code",
   "execution_count": 21,
   "id": "3d027ff1-284d-49c7-9e4b-76d814b1422d",
   "metadata": {},
   "outputs": [
    {
     "name": "stdout",
     "output_type": "stream",
     "text": [
      "Element: 1, Data Type: <class 'int'>\n",
      "Element: apple, Data Type: <class 'str'>\n",
      "Element: 3.14, Data Type: <class 'float'>\n",
      "Element: True, Data Type: <class 'bool'>\n",
      "Element: [1, 2, 3], Data Type: <class 'list'>\n",
      "Element: {'name': 'John', 'age': 25}, Data Type: <class 'dict'>\n",
      "Element: (4, 5, 6), Data Type: <class 'tuple'>\n",
      "Element: None, Data Type: <class 'NoneType'>\n",
      "Element: banana, Data Type: <class 'str'>\n",
      "Element: False, Data Type: <class 'bool'>\n"
     ]
    }
   ],
   "source": [
    "my_list = [1, 'apple', 3.14, True, [1, 2, 3], {'name': 'John', 'age': 25}, (4, 5, 6), None, 'banana', False]\n",
    "\n",
    "for element in my_list:\n",
    "    print(f\"Element: {element}, Data Type: {type(element)}\")\n"
   ]
  },
  {
   "cell_type": "markdown",
   "id": "c1fbbb39-02dd-45d9-8704-cd3354bb9cac",
   "metadata": {},
   "source": [
    "Q5. Using a while loop, verify if the number A is purely divisible by number B and if so then how many\n",
    "times it can be divisible."
   ]
  },
  {
   "cell_type": "code",
   "execution_count": 22,
   "id": "2dd6710f-edf9-417b-ab9b-f2eb724f5270",
   "metadata": {},
   "outputs": [
    {
     "name": "stdout",
     "output_type": "stream",
     "text": [
      "A is divisible by B, and it can be divided 1 times.\n"
     ]
    }
   ],
   "source": [
    "A = 20\n",
    "B = 4\n",
    "\n",
    "count = 0\n",
    "\n",
    "while A % B == 0:\n",
    "    A = A / B\n",
    "    count += 1\n",
    "\n",
    "if count > 0:\n",
    "    print(f\"A is divisible by B, and it can be divided {count} times.\")\n",
    "else:\n",
    "    print(\"A is not divisible by B.\")\n"
   ]
  },
  {
   "cell_type": "markdown",
   "id": "9dc28b5b-bd89-4164-9e8c-7bb07f442c03",
   "metadata": {},
   "source": [
    "Q6. Create a list containing 25 int type data. Using for loop and if-else condition print if the element is\n",
    "divisible by 3 or not."
   ]
  },
  {
   "cell_type": "code",
   "execution_count": 25,
   "id": "4ec0ee58-e705-459c-b03e-5c4eba256a03",
   "metadata": {},
   "outputs": [
    {
     "name": "stdout",
     "output_type": "stream",
     "text": [
      "11 is not divisible by 3.\n",
      "12 is divisible by 3.\n",
      "13 is not divisible by 3.\n",
      "14 is not divisible by 3.\n",
      "15 is divisible by 3.\n",
      "16 is not divisible by 3.\n",
      "17 is not divisible by 3.\n",
      "18 is divisible by 3.\n",
      "19 is not divisible by 3.\n",
      "20 is not divisible by 3.\n",
      "21 is divisible by 3.\n",
      "22 is not divisible by 3.\n",
      "23 is not divisible by 3.\n",
      "24 is divisible by 3.\n",
      "25 is not divisible by 3.\n",
      "26 is not divisible by 3.\n",
      "27 is divisible by 3.\n",
      "28 is not divisible by 3.\n",
      "29 is not divisible by 3.\n",
      "30 is divisible by 3.\n",
      "31 is not divisible by 3.\n",
      "32 is not divisible by 3.\n",
      "33 is divisible by 3.\n",
      "34 is not divisible by 3.\n",
      "35 is not divisible by 3.\n"
     ]
    }
   ],
   "source": [
    "my_list = [11, 12, 13, 14, 15, 16, 17, 18, 19, 20, 21, 22, 23, 24, 25, 26, 27, 28, 29, 30, 31, 32, 33, 34, 35]\n",
    "\n",
    "for element in my_list:\n",
    "    if element % 3 == 0:\n",
    "        print(f\"{element} is divisible by 3.\")\n",
    "    else:\n",
    "        print(f\"{element} is not divisible by 3.\")\n"
   ]
  },
  {
   "cell_type": "markdown",
   "id": "e84ee97d-fd65-49dc-8a6a-26a8d4a3224f",
   "metadata": {},
   "source": [
    "Q7. What do you understand about mutable and immutable data types? Give examples for both showing\n",
    "this property."
   ]
  },
  {
   "cell_type": "code",
   "execution_count": 26,
   "id": "6346c6f1-d26d-4a83-899b-b353819a39f9",
   "metadata": {},
   "outputs": [
    {
     "name": "stdout",
     "output_type": "stream",
     "text": [
      "Hello\n",
      "Hello, World!\n"
     ]
    }
   ],
   "source": [
    "#Immutable data types are those whose values cannot be modified once they are assigned. When an immutable object is altered, \n",
    "#a new object is created with the modified value. Examples of immutable data types in Python include:\n",
    "message = \"Hello\"\n",
    "print(message)  # Output: Hello\n",
    "\n",
    "message = message + \", World!\"\n",
    "print(message)  # Output: Hello, World!\n",
    "\n",
    "#In this example, the concatenation operation message = message + \", World!\" \n",
    "#creates a new string object with the modified value, and message is assigned to the new object. \n",
    "#The original string \"Hello\" remains unchanged."
   ]
  },
  {
   "cell_type": "code",
   "execution_count": 27,
   "id": "cfdce918-d9c7-41b2-ac18-7cd69f012e60",
   "metadata": {},
   "outputs": [
    {
     "name": "stdout",
     "output_type": "stream",
     "text": [
      "[1, 2, 3]\n",
      "[1, 2, 3, 4]\n"
     ]
    }
   ],
   "source": [
    "#On the other hand, mutable data typesare those whose values can be modified after they are assigned. \n",
    "#Changes made to mutable objects directly affect the original object. Examples of mutable data types in Python include:\n",
    "my_list = [1, 2, 3]\n",
    "print(my_list)  # Output: [1, 2, 3]\n",
    "\n",
    "my_list.append(4)\n",
    "print(my_list)  # Output: [1, 2, 3, 4]\n",
    "\n",
    "#In this example, the append() method modifies the original list by adding an element to it. \n",
    "#The changes are reflected in the same object my_list.\n"
   ]
  },
  {
   "cell_type": "code",
   "execution_count": null,
   "id": "46237d17-e9c4-400c-91cb-532cd523ed95",
   "metadata": {},
   "outputs": [],
   "source": []
  },
  {
   "cell_type": "code",
   "execution_count": null,
   "id": "edb54e3f-bc74-4c21-b549-dc6261c30b85",
   "metadata": {},
   "outputs": [],
   "source": []
  }
 ],
 "metadata": {
  "kernelspec": {
   "display_name": "Python 3 (ipykernel)",
   "language": "python",
   "name": "python3"
  },
  "language_info": {
   "codemirror_mode": {
    "name": "ipython",
    "version": 3
   },
   "file_extension": ".py",
   "mimetype": "text/x-python",
   "name": "python",
   "nbconvert_exporter": "python",
   "pygments_lexer": "ipython3",
   "version": "3.10.8"
  }
 },
 "nbformat": 4,
 "nbformat_minor": 5
}
